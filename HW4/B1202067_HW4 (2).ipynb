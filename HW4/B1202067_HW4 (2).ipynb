{
  "nbformat": 4,
  "nbformat_minor": 0,
  "metadata": {
    "colab": {
      "provenance": []
    },
    "kernelspec": {
      "name": "python3",
      "display_name": "Python 3"
    },
    "language_info": {
      "name": "python"
    }
  },
  "cells": [
    {
      "cell_type": "code",
      "execution_count": 84,
      "metadata": {
        "colab": {
          "base_uri": "https://localhost:8080/"
        },
        "id": "z1e9cjr3wdaY",
        "outputId": "6fe64258-f730-467a-f884-a760be66f9fb"
      },
      "outputs": [
        {
          "output_type": "stream",
          "name": "stdout",
          "text": [
            "成績20 10 30 50 40\n",
            "[20, 30, 40]\n",
            "30.0\n"
          ]
        }
      ],
      "source": [
        "a=input('成績').split()\n",
        "for i in range(len(a)):\n",
        "  a[i]=int(a[i])\n",
        "a.sort()\n",
        "print(a[1:4])\n",
        "mean=sum(a)/len(a)\n",
        "print(mean)\n"
      ]
    },
    {
      "cell_type": "code",
      "source": [
        "a=int(input(\"number\"))\n",
        "b=int(input(\"number\"))\n",
        "c=input(\"計算符號\")\n",
        "if c==(\"+\"):\n",
        "  a+b\n",
        "  print(a+b)\n",
        "elif c==(\"-\"):\n",
        "  a-b\n",
        "  print(a-b)\n",
        "elif c==(\"*\"):\n",
        "  a*b\n",
        "  print(a*b)\n",
        "elif c==(\"/\"):\n",
        "  a/b\n",
        "  print(a/b)\n",
        "else:\n",
        "  print(\"error\")\n"
      ],
      "metadata": {
        "colab": {
          "base_uri": "https://localhost:8080/"
        },
        "id": "uL7B6pj4-zI3",
        "outputId": "3bfa4024-25d2-4ac3-8b61-3195165cb710"
      },
      "execution_count": null,
      "outputs": [
        {
          "name": "stdout",
          "output_type": "stream",
          "text": [
            "number1\n",
            "number1\n"
          ]
        }
      ]
    },
    {
      "cell_type": "code",
      "source": [
        "a=int(input('西元年份'))\n",
        "print(a)\n",
        "if a<=1582:\n",
        "  if a%4==0:\n",
        "    print('閏年')\n",
        "  else:\n",
        "    print('平年')\n",
        "elif a>1582:\n",
        "  if a%100==0 and a%400!=0:\n",
        "    print('平年')\n",
        "  elif a%4==0:\n",
        "    print('閏年')\n",
        "  else:\n",
        "    print('平年')"
      ],
      "metadata": {
        "colab": {
          "base_uri": "https://localhost:8080/"
        },
        "id": "jxokWzWJJQcJ",
        "outputId": "c6287f04-87fc-4ca7-a6c1-505fb85cefaa"
      },
      "execution_count": 87,
      "outputs": [
        {
          "output_type": "stream",
          "name": "stdout",
          "text": [
            "西元年份1700\n",
            "1700\n",
            "平年\n"
          ]
        }
      ]
    }
  ]
}